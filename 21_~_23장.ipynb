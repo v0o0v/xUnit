{
  "nbformat": 4,
  "nbformat_minor": 0,
  "metadata": {
    "colab": {
      "name": "21 ~ 23장",
      "provenance": [],
      "collapsed_sections": [],
      "authorship_tag": "ABX9TyPGCvkJwf2OjzzKz0imVDU5",
      "include_colab_link": true
    },
    "kernelspec": {
      "name": "python3",
      "display_name": "Python 3"
    }
  },
  "cells": [
    {
      "cell_type": "markdown",
      "metadata": {
        "id": "view-in-github",
        "colab_type": "text"
      },
      "source": [
        "<a href=\"https://colab.research.google.com/github/v0o0v/xUnit/blob/master/21_~_23%EC%9E%A5.ipynb\" target=\"_parent\"><img src=\"https://colab.research.google.com/assets/colab-badge.svg\" alt=\"Open In Colab\"/></a>"
      ]
    },
    {
      "cell_type": "code",
      "metadata": {
        "id": "oOwHhhURJCq_",
        "colab_type": "code",
        "colab": {}
      },
      "source": [
        "class WasRun(TestCase):\n",
        "  def __init__(self, name):    \n",
        "    TestCase.__init__(self,name)\n",
        "\n",
        "  def testMethod(self):    \n",
        "    self.log = self.log + \"testMethod \"\n",
        "\n",
        "  def setUp(self):       \n",
        "    self.log = \"setUp \"\n",
        "  \n",
        "  def tearDown(self):\n",
        "    self.log = self.log + \"tearDown \" "
      ],
      "execution_count": 0,
      "outputs": []
    },
    {
      "cell_type": "markdown",
      "metadata": {
        "id": "j0kfXfZEoIZr",
        "colab_type": "text"
      },
      "source": [
        "# 21장 셈하기\n",
        "\n",
        "ToDO List\n",
        "* [X] 테스트 메서드 호출하기\n",
        "* [X] 먼저 SetUp 호출하기\n",
        "* [x] 나중에 tearDown 호출하기\n",
        "* [ ] 테스트 메서드가 실패하더라도 tearDown 호출하기\n",
        "* [ ] 여러 개의 테스트 실행하기\n",
        "* [ ] **수집된 결과를 출력하기** \n",
        "* [x] WasRun에 로그 문자열 남기기\n",
        "\n",
        "테스트 결과를 볼 수 있는 방법을 지원하고자 한다. 결과에는 테스트 총개수, 실패 개수, 에러 이유 등이 들어 있다.\n",
        "\n",
        "메타포 : 테스트결과 클래스 도입\n"
      ]
    },
    {
      "cell_type": "code",
      "metadata": {
        "colab_type": "code",
        "id": "iHIoPI8LFT5w",
        "colab": {}
      },
      "source": [
        "class TestCaseTest(TestCase):\n",
        "    \n",
        "  def testTemplateMethod(self):\n",
        "    test = WasRun(\"testMethod\")\n",
        "    test.run()        \n",
        "    assert(\"setUp testMethod tearDown \" == test.log)    \n",
        "\n",
        "  # 추가\n",
        "  def testResult(self):\n",
        "    test = WasRun(\"testMethod\")\n",
        "    result = test.run()    \n",
        "    assert(\"1 run, 0 failed\" == result.summary())\n",
        "\n",
        "\n",
        "TestCaseTest(\"testTemplateMethod\").run()\n",
        "TestCaseTest(\"testResult\").run()"
      ],
      "execution_count": 0,
      "outputs": []
    },
    {
      "cell_type": "markdown",
      "metadata": {
        "id": "UhJMDwPCF2Qn",
        "colab_type": "text"
      },
      "source": [
        "당연히 실패. 가짜 구현으로 시작"
      ]
    },
    {
      "cell_type": "code",
      "metadata": {
        "id": "HcG-FsTQJxQR",
        "colab_type": "code",
        "colab": {}
      },
      "source": [
        "class TestResult:\n",
        "  def __init__(self):\n",
        "    self.runCount = 0\n",
        "\n",
        "  def testStarted(self):    \n",
        "    self.runCount = self.runCount + 1    \n",
        "\n",
        "  def summary(self) :    \n",
        "    return \"%d run, 0 failed\" % self.runCount"
      ],
      "execution_count": 0,
      "outputs": []
    },
    {
      "cell_type": "code",
      "metadata": {
        "colab_type": "code",
        "id": "fw0GwGpdF9to",
        "colab": {}
      },
      "source": [
        "class TestCase:\n",
        "  def __init__(self, name):\n",
        "    self.name = name\n",
        "\n",
        "  def run(self):\n",
        "    result= TestResult()\n",
        "    result.testStarted()\n",
        "    self.setUp()\n",
        "    method = getattr(self, self.name)\n",
        "    method()\n",
        "    self.tearDown()\n",
        "    return result\n",
        "  \n",
        "  def setUp(self):\n",
        "    pass\n",
        "\n",
        "  def tearDown(self):\n",
        "    pass"
      ],
      "execution_count": 0,
      "outputs": []
    },
    {
      "cell_type": "markdown",
      "metadata": {
        "id": "gi1JM8O6NfHj",
        "colab_type": "text"
      },
      "source": [
        "실패하는 경우도 테스트에 넣자"
      ]
    },
    {
      "cell_type": "code",
      "metadata": {
        "id": "LRBE9SqkN20a",
        "colab_type": "code",
        "colab": {}
      },
      "source": [
        "class TestCaseTest(TestCase):\n",
        "    \n",
        "  def testTemplateMethod(self):\n",
        "    test = WasRun(\"testMethod\")\n",
        "    test.run()        \n",
        "    assert(\"setUp testMethod tearDown \" == test.log)    \n",
        "\n",
        "  def testResult(self):\n",
        "    test = WasRun(\"testMethod\")\n",
        "    result = test.run()    \n",
        "    assert(\"1 run, 0 failed\" == result.summary())\n",
        "\n",
        "def testFailResult(self):\n",
        "    test = WasRun(\"testBrokenMethod\")\n",
        "    result = test.run()    \n",
        "    assert(\"1 run, 1 failed\" == result.summary())\n",
        "\n",
        "\n",
        "TestCaseTest(\"testTemplateMethod\").run()\n",
        "TestCaseTest(\"testResult\").run()\n",
        "TestCaseTest(\"testFailResult\").run()"
      ],
      "execution_count": 0,
      "outputs": []
    },
    {
      "cell_type": "code",
      "metadata": {
        "id": "_UFNKHX1OJwv",
        "colab_type": "code",
        "colab": {}
      },
      "source": [
        "class WasRun(TestCase):\n",
        "  def __init__(self, name):    \n",
        "    TestCase.__init__(self,name)\n",
        "\n",
        "  def testMethod(self):    \n",
        "    self.log = self.log + \"testMethod \"\n",
        "\n",
        "  def setUp(self):       \n",
        "    self.log = \"setUp \"\n",
        "  \n",
        "  def tearDown(self):\n",
        "    self.log = self.log + \"tearDown \"\n",
        "\n",
        "  def testBrokenMethod(self):\n",
        "    raise Exception \n"
      ],
      "execution_count": 0,
      "outputs": []
    },
    {
      "cell_type": "markdown",
      "metadata": {
        "id": "NeJNda8iOSdA",
        "colab_type": "text"
      },
      "source": [
        "exception 처리를 하지 않았지만\n",
        "일단 여기까지만 작업하고 ToDO 리스트에만 추가한다\n",
        "\n",
        "* [X] 테스트 메서드 호출하기\n",
        "* [X] 먼저 SetUp 호출하기\n",
        "* [x] 나중에 tearDown 호출하기\n",
        "* [ ] 테스트 메서드가 실패하더라도 tearDown 호출하기\n",
        "* [ ] 여러 개의 테스트 실행하기\n",
        "* [X] 수집된 결과를 출력하기\n",
        "* [x] WasRun에 로그 문자열 남기기\n",
        "* [ ] 실패한 테스트 보고하기"
      ]
    },
    {
      "cell_type": "markdown",
      "metadata": {
        "id": "FJw6BwPgOjKb",
        "colab_type": "text"
      },
      "source": [
        "# 22장 실패 처리하기\n",
        "\n",
        "* [X] 테스트 메서드 호출하기\n",
        "* [X] 먼저 SetUp 호출하기\n",
        "* [x] 나중에 tearDown 호출하기\n",
        "* [ ] 테스트 메서드가 실패하더라도 tearDown 호출하기\n",
        "* [ ] 여러 개의 테스트 실행하기\n",
        "* [X] 수집된 결과를 출력하기\n",
        "* [x] WasRun에 로그 문자열 남기기\n",
        "* [ ] **실패한 테스트 보고하기**\n",
        "\n",
        "실패한 테스트거 있을 경우에 테스트를 추가한다"
      ]
    },
    {
      "cell_type": "code",
      "metadata": {
        "id": "nLpirMQOPy1M",
        "colab_type": "code",
        "colab": {}
      },
      "source": [
        "class TestCaseTest(TestCase):\n",
        "    \n",
        "  def testTemplateMethod(self):\n",
        "    test = WasRun(\"testMethod\")\n",
        "    test.run()        \n",
        "    assert(\"setUp testMethod tearDown \" == test.log)    \n",
        "\n",
        "  def testResult(self):\n",
        "    test = WasRun(\"testMethod\")\n",
        "    result = test.run()    \n",
        "    assert(\"1 run, 0 failed\" == result.summary())\n",
        "\n",
        "def testFailResult(self):\n",
        "    test = WasRun(\"testBrokenMethod\")\n",
        "    result = test.run()    \n",
        "    assert(\"1 run, 1 failed\" == result.summary())\n",
        "\n",
        "#추가\n",
        "def testFailResultFormatting(self):\n",
        "    result = TestResult()\n",
        "    result.testStarted()\n",
        "    result.testFailed()    \n",
        "    assert(\"1 run, 1 failed\" == result.summary())\n",
        "\n",
        "TestCaseTest(\"testTemplateMethod\").run()\n",
        "TestCaseTest(\"testResult\").run()\n",
        "TestCaseTest(\"testFailResult\").run()\n",
        "TestCaseTest(\"testFailResultFormatting\").run()"
      ],
      "execution_count": 0,
      "outputs": []
    },
    {
      "cell_type": "code",
      "metadata": {
        "id": "d3Km06brQ1-0",
        "colab_type": "code",
        "colab": {}
      },
      "source": [
        "class TestResult:\n",
        "  def __init__(self):\n",
        "    self.runCount = 0\n",
        "    self.failureCount = 0\n",
        "\n",
        "  def testStarted(self):    \n",
        "    self.runCount = self.runCount + 1    \n",
        "\n",
        "  def summary(self) :    \n",
        "    return \"%d run, %d failed\" % (self.runCount, self.failureCount)\n",
        "\n",
        "  def testFailed(self):\n",
        "    self.failureCount = self.failureCount + 1"
      ],
      "execution_count": 0,
      "outputs": []
    },
    {
      "cell_type": "code",
      "metadata": {
        "id": "FzN3aEt5RR_a",
        "colab_type": "code",
        "colab": {}
      },
      "source": [
        "class TestCase:\n",
        "  def __init__(self, name):\n",
        "    self.name = name\n",
        "\n",
        "  def run(self):\n",
        "    result= TestResult()\n",
        "    result.testStarted()\n",
        "    self.setUp()\n",
        "    try:\n",
        "      method = getattr(self, self.name)\n",
        "      method()\n",
        "    except:\n",
        "      result.testFailed()      \n",
        "    self.tearDown()\n",
        "    return result\n",
        "  \n",
        "  def setUp(self):\n",
        "    pass\n",
        "\n",
        "  def tearDown(self):\n",
        "    pass"
      ],
      "execution_count": 0,
      "outputs": []
    },
    {
      "cell_type": "markdown",
      "metadata": {
        "id": "zzQDR-laRfsj",
        "colab_type": "text"
      },
      "source": [
        "위와 같이 하면 setup()에서 발생한 에러는 카운트 할 수 없다. ToDo에 추가하고 일단 넘어가자\n",
        "\n",
        "* [X] 테스트 메서드 호출하기\n",
        "* [X] 먼저 SetUp 호출하기\n",
        "* [x] 나중에 tearDown 호출하기\n",
        "* [ ] 테스트 메서드가 실패하더라도 tearDown 호출하기\n",
        "* [ ] 여러 개의 테스트 실행하기\n",
        "* [X] 수집된 결과를 출력하기\n",
        "* [x] WasRun에 로그 문자열 남기기\n",
        "* [X] 실패한 테스트 보고하기\n",
        "* [ ] setUp 에러를 잡아서 보고하기"
      ]
    },
    {
      "cell_type": "markdown",
      "metadata": {
        "id": "SiHhZcdWSZTx",
        "colab_type": "text"
      },
      "source": [
        "# 23장 얼마나 달콤한지\n",
        "\n",
        "* [X] 테스트 메서드 호출하기\n",
        "* [X] 먼저 SetUp 호출하기\n",
        "* [x] 나중에 tearDown 호출하기\n",
        "* [ ] 테스트 메서드가 실패하더라도 tearDown 호출하기\n",
        "* [ ] **여러 개의 테스트 실행하기**\n",
        "* [X] 수집된 결과를 출력하기\n",
        "* [x] WasRun에 로그 문자열 남기기\n",
        "* [X] 실패한 테스트 보고하기\n",
        "* [ ] setUp 에러를 잡아서 보고하기\n",
        "\n",
        "\n",
        "테스트들 모아서 한번에 실행할 수 있도록 한다.TestSuite를 만드는 것인데 컴포지트 패턴을 적용한다. 즉, 테스트하나와 테스트집단을 동일하게 다룬다(파일과 폴더를 다루 듯)\n",
        "\n",
        "일단 테스트를 추가한다"
      ]
    },
    {
      "cell_type": "code",
      "metadata": {
        "id": "J8iYaBdyVtG-",
        "colab_type": "code",
        "colab": {}
      },
      "source": [
        "class TestCaseTest(TestCase):\n",
        "    \n",
        "  def testTemplateMethod(self):\n",
        "    test = WasRun(\"testMethod\")\n",
        "    test.run()        \n",
        "    assert(\"setUp testMethod tearDown \" == test.log)    \n",
        "\n",
        "  def testResult(self):\n",
        "    test = WasRun(\"testMethod\")\n",
        "    result = test.run()    \n",
        "    assert(\"1 run, 0 failed\" == result.summary())\n",
        "\n",
        "def testFailResult(self):\n",
        "    test = WasRun(\"testBrokenMethod\")\n",
        "    result = test.run()    \n",
        "    assert(\"1 run, 1 failed\" == result.summary())\n",
        "\n",
        "def testFailResultFormatting(self):\n",
        "    result = TestResult()\n",
        "    result.testStarted()\n",
        "    result.testFailed()    \n",
        "    assert(\"1 run, 1 failed\" == result.summary())\n",
        "\n",
        "#추가\n",
        "def testSuite(self):\n",
        "  suite = TestSuite()\n",
        "  suite.add(WasRun(\"testMethod\"))\n",
        "  suite.add(WasRun(\"testBrokenMethod\"))\n",
        "  result = suite.run()\n",
        "  assert(\"2 run, 1 failed\" == result.summary())\n",
        "\n",
        "TestCaseTest(\"testTemplateMethod\").run()\n",
        "TestCaseTest(\"testResult\").run()\n",
        "TestCaseTest(\"testFailResult\").run()\n",
        "TestCaseTest(\"testFailResultFormatting\").run()\n",
        "TestCaseTest(\"testSuite\").run()"
      ],
      "execution_count": 0,
      "outputs": []
    },
    {
      "cell_type": "code",
      "metadata": {
        "id": "bHYBBjPRWtu5",
        "colab_type": "code",
        "colab": {}
      },
      "source": [
        "class TestSuite:\n",
        "  \n",
        "  def __init__(self):\n",
        "    self.tests = []\n",
        "  \n",
        "  def add(self, test):\n",
        "    self.tests.append(test)\n",
        "\n",
        "  def run(self):\n",
        "    result = TestResult()\n",
        "    for test in self.tests:\n",
        "      test.run(result) #TestResult를 공유하기 위해 TestCase.run()에 매개변수로 넘긴다\n",
        "    return result"
      ],
      "execution_count": 0,
      "outputs": []
    },
    {
      "cell_type": "markdown",
      "metadata": {
        "id": "A0rTZ5qlX650",
        "colab_type": "text"
      },
      "source": [
        "TestSuite와 TestCase에 컴포지트패턴을 적용하려면 TestCase의 run에도 매개변수가 들어가야한다. 여러가지 방법이 있지만 호출하는 곳에서 TestResult를 할당하는 collection parameter 방법을 사용한다. 이 방법은 이미 할당해서 result를 넘겨주기 때문에 반환받을 필요가 없는 장점도 있다."
      ]
    },
    {
      "cell_type": "code",
      "metadata": {
        "id": "GNH6-1M8YOke",
        "colab_type": "code",
        "colab": {}
      },
      "source": [
        "class TestCase:\n",
        "  def __init__(self, name):\n",
        "    self.name = name\n",
        "\n",
        "  #수정\n",
        "  def run(self, result):    \n",
        "    result.testStarted()\n",
        "    self.setUp()\n",
        "    try:\n",
        "      method = getattr(self, self.name)\n",
        "      method()\n",
        "    except:\n",
        "      result.testFailed()      \n",
        "    self.tearDown()    \n",
        "  \n",
        "  def setUp(self):\n",
        "    pass\n",
        "\n",
        "  def tearDown(self):\n",
        "    pass"
      ],
      "execution_count": 0,
      "outputs": []
    },
    {
      "cell_type": "code",
      "metadata": {
        "id": "gh21tEKTZCk8",
        "colab_type": "code",
        "colab": {}
      },
      "source": [
        "class TestSuite:\n",
        "  \n",
        "  def __init__(self):\n",
        "    self.tests = []\n",
        "  \n",
        "  def add(self, test):\n",
        "    self.tests.append(test)\n",
        "\n",
        "  #수정\n",
        "  def run(self, result):    \n",
        "    for test in self.tests:\n",
        "      test.run(result)    "
      ],
      "execution_count": 0,
      "outputs": []
    },
    {
      "cell_type": "code",
      "metadata": {
        "id": "36sVFLmdZTco",
        "colab_type": "code",
        "colab": {}
      },
      "source": [
        "class TestCaseTest(TestCase):\n",
        "    \n",
        "  def testTemplateMethod(self):\n",
        "    test = WasRun(\"testMethod\")\n",
        "    test.run()        \n",
        "    assert(\"setUp testMethod tearDown \" == test.log)    \n",
        "\n",
        "  def testResult(self):\n",
        "    test = WasRun(\"testMethod\")\n",
        "    result = test.run()    \n",
        "    assert(\"1 run, 0 failed\" == result.summary())\n",
        "\n",
        "def testFailResult(self):\n",
        "    test = WasRun(\"testBrokenMethod\")\n",
        "    result = test.run()    \n",
        "    assert(\"1 run, 1 failed\" == result.summary())\n",
        "\n",
        "def testFailResultFormatting(self):\n",
        "    result = TestResult()\n",
        "    result.testStarted()\n",
        "    result.testFailed()    \n",
        "    assert(\"1 run, 1 failed\" == result.summary())\n",
        "\n",
        "#추가\n",
        "def testSuite(self):\n",
        "  suite = TestSuite()\n",
        "  suite.add(WasRun(\"testMethod\"))\n",
        "  suite.add(WasRun(\"testBrokenMethod\"))\n",
        "  result = TestResult()\n",
        "  suite.run(result)\n",
        "  assert(\"2 run, 1 failed\" == result.summary())\n"
      ],
      "execution_count": 0,
      "outputs": []
    },
    {
      "cell_type": "code",
      "metadata": {
        "id": "ZSzQeU6eZmxE",
        "colab_type": "code",
        "colab": {
          "base_uri": "https://localhost:8080/",
          "height": 34
        },
        "outputId": "d3ea4d89-d68b-4268-fd42-f81364a3a7bf"
      },
      "source": [
        "#테스트 실행 부분 분리\n",
        "suite = TestSuite()\n",
        "suite.add(TestCaseTest(\"testTemplateMethod\"))\n",
        "suite.add(TestCaseTest(\"testResult\"))\n",
        "suite.add(TestCaseTest(\"testFailResult\"))\n",
        "suite.add(TestCaseTest(\"testFailResultFormatting\"))\n",
        "suite.add(TestCaseTest(\"testSuite\"))\n",
        "result = TestResult()\n",
        "suite.run(result)\n",
        "print(result.summary())"
      ],
      "execution_count": 9,
      "outputs": [
        {
          "output_type": "stream",
          "text": [
            "5 run, 3 failed\n"
          ],
          "name": "stdout"
        }
      ]
    },
    {
      "cell_type": "markdown",
      "metadata": {
        "id": "6oud0qbqahfW",
        "colab_type": "text"
      },
      "source": [
        "중복도 많고 실패 테스트도 수정해야 한다"
      ]
    },
    {
      "cell_type": "code",
      "metadata": {
        "id": "k7SfRsiXam8u",
        "colab_type": "code",
        "colab": {}
      },
      "source": [
        "class TestCaseTest(TestCase):\n",
        "    \n",
        "  def testTemplateMethod(self):\n",
        "    test = WasRun(\"testMethod\")\n",
        "    result = TestResult()\n",
        "    test.run(result)        \n",
        "    assert(\"setUp testMethod tearDown \" == test.log)    \n",
        "\n",
        "  def testResult(self):\n",
        "    test = WasRun(\"testMethod\")\n",
        "    result = TestResult()\n",
        "    test.run(result)\n",
        "    assert(\"1 run, 0 failed\" == result.summary())\n",
        "\n",
        "def testFailResult(self):\n",
        "    test = WasRun(\"testBrokenMethod\")\n",
        "    result = TestResult()\n",
        "    test.run(result)    \n",
        "    assert(\"1 run, 1 failed\" == result.summary())\n",
        "\n",
        "def testFailResultFormatting(self):\n",
        "    result = TestResult()\n",
        "    result.testStarted()\n",
        "    result.testFailed()    \n",
        "    assert(\"1 run, 1 failed\" == result.summary())\n",
        "\n",
        "#추가\n",
        "def testSuite(self):\n",
        "  suite = TestSuite()\n",
        "  suite.add(WasRun(\"testMethod\"))\n",
        "  suite.add(WasRun(\"testBrokenMethod\"))\n",
        "  result = TestResult()\n",
        "  suite.run(result)\n",
        "  assert(\"2 run, 1 failed\" == result.summary())\n"
      ],
      "execution_count": 0,
      "outputs": []
    },
    {
      "cell_type": "markdown",
      "metadata": {
        "id": "2qMgKLxDbCdS",
        "colab_type": "text"
      },
      "source": [
        "각 테스트들이 중복적으로 TestResult를 할당하고 있다. setUp에서 할당해서 사용하는 식으로 수정하자"
      ]
    },
    {
      "cell_type": "code",
      "metadata": {
        "id": "-9kdJ-_XbLSX",
        "colab_type": "code",
        "colab": {}
      },
      "source": [
        "class TestCaseTest(TestCase):\n",
        "\n",
        "  #추가\n",
        "  def setUp(self):\n",
        "    self.result = TestResult()\n",
        "\n",
        "  def testTemplateMethod(self):\n",
        "    test = WasRun(\"testMethod\")    \n",
        "    test.run(self.result)        \n",
        "    assert(\"setUp testMethod tearDown \" == test.log)    \n",
        "\n",
        "  def testResult(self):\n",
        "    test = WasRun(\"testMethod\")    \n",
        "    test.run(self.result)\n",
        "    assert(\"1 run, 0 failed\" == self.result.summary())\n",
        "\n",
        "def testFailResult(self):\n",
        "    test = WasRun(\"testBrokenMethod\")    \n",
        "    test.run(self.result)\n",
        "    assert(\"1 run, 1 failed\" == self.result.summary())\n",
        "\n",
        "def testFailResultFormatting(self):    \n",
        "    self.result.testStarted()\n",
        "    self.result.testFailed()    \n",
        "    assert(\"1 run, 1 failed\" == self.result.summary())\n",
        "\n",
        "#추가\n",
        "def testSuite(self):\n",
        "  suite = TestSuite()\n",
        "  suite.add(WasRun(\"testMethod\"))\n",
        "  suite.add(WasRun(\"testBrokenMethod\"))\n",
        "  result = TestResult()\n",
        "  suite.run(self.result)\n",
        "  assert(\"2 run, 1 failed\" == self.result.summary())"
      ],
      "execution_count": 0,
      "outputs": []
    }
  ]
}