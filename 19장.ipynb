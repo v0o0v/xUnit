{
  "nbformat": 4,
  "nbformat_minor": 0,
  "metadata": {
    "colab": {
      "name": "19장",
      "provenance": [],
      "collapsed_sections": [],
      "authorship_tag": "ABX9TyOeCsUbuMcqwCTKG13l3MCD",
      "include_colab_link": true
    },
    "kernelspec": {
      "name": "python3",
      "display_name": "Python 3"
    }
  },
  "cells": [
    {
      "cell_type": "markdown",
      "metadata": {
        "id": "view-in-github",
        "colab_type": "text"
      },
      "source": [
        "<a href=\"https://colab.research.google.com/github/v0o0v/xUnit/blob/master/19%EC%9E%A5.ipynb\" target=\"_parent\"><img src=\"https://colab.research.google.com/assets/colab-badge.svg\" alt=\"Open In Colab\"/></a>"
      ]
    },
    {
      "cell_type": "markdown",
      "metadata": {
        "id": "j0kfXfZEoIZr",
        "colab_type": "text"
      },
      "source": [
        "# 19장 테이블 차리기\n",
        "\n",
        "\n",
        "ToDO List\n",
        "* [X] 테스트 메서드 호출하기\n",
        "* **먼저 SetUp 호출하기**\n",
        "* 나중에 tearDown 호출하기\n",
        "* 테스트 메서드가 실패하더라도 tearDown 호출하기\n",
        "* 여러 개의 테스트 실행하기\n",
        "* 수집된 결과를 출력하기 \n",
        "\n",
        "---\n",
        "테스트는 공통된 패턴이 있다\n",
        "\n",
        "1. 준비(arrange) - 객체를 생성한다.\n",
        "2. 행동(act) - 어떤 자극을 준다.\n",
        "3. 확인(assert) - 결과를 검사한다.\n",
        "\n",
        "1번은 2/3번과 다르게 동일한 경우가 많다.\n",
        "이런 패턴으로 인해 테스트를 위해 객체를 얼마나 자주 생성해야 하는지에 대한 제약이 상충한다.\n",
        "- 성능/격리 : 격리하기 위해 매 테스트마다 객체를 생성하면 성능이 떨어진다. 하지만 성능을 위해서 객체를 재사용하게 되면 테스트간에 커플링으로 인해 다른 문제가 발생한다.\n",
        "\n",
        "일단, 객체 생성이 충분히 빠르다는 가정하에 모든 테스트마다 객체를 생성한다고 가정한다.\n",
        "\n",
        "일단 테스트 코드 추가.\n",
        "\n",
        "메타포 : 격리 / 플래그"
      ]
    },
    {
      "cell_type": "code",
      "metadata": {
        "id": "9zj6gm37NTFo",
        "colab_type": "code",
        "colab": {}
      },
      "source": [
        "class TestCaseTest(TestCase):\n",
        "    def testRunning(self):\n",
        "        test = WasRun(\"testMethod\")\n",
        "        assert(not test.wasRun)\n",
        "        test.run()\n",
        "        assert(test.wasRun)\n",
        "\n",
        "    # 추가\n",
        "    def testSetup(self):\n",
        "        test = WasRun(\"testMethod\") # 격리\n",
        "        test.run()\n",
        "        assert(test.wasSetup)\n",
        "\n",
        "TestCaseTest(\"testRunning\").run()\n",
        "TestCaseTest(\"testSetup\").run() #추가"
      ],
      "execution_count": 0,
      "outputs": []
    },
    {
      "cell_type": "markdown",
      "metadata": {
        "id": "nPXZq9k3tmaq",
        "colab_type": "text"
      },
      "source": [
        "당연히 실패가 뜬다.\n",
        "성공시키기 위해 코드 추가."
      ]
    },
    {
      "cell_type": "code",
      "metadata": {
        "id": "OtpD4b96s2lD",
        "colab_type": "code",
        "colab": {}
      },
      "source": [
        "class WasRun(TestCase):\n",
        "  def __init__(self, name):\n",
        "    self.wasRun = None\n",
        "    TestCase.__init__(self,name)\n",
        "\n",
        "  def testMethod(self):\n",
        "    self.wasRun=1\n",
        "\n",
        "  # 추가\n",
        "  def setUp(self):\n",
        "      self.wasSetup=1 # 플래그"
      ],
      "execution_count": 0,
      "outputs": []
    },
    {
      "cell_type": "markdown",
      "metadata": {
        "id": "yK-fWGiCMBEa",
        "colab_type": "text"
      },
      "source": [
        "wasRun의 테스트를 실행하는 곳은 TestCase이기 때문에 setUp을 호출하는 주체도 TestCase이다."
      ]
    },
    {
      "cell_type": "code",
      "metadata": {
        "id": "cMqUZTbytjXo",
        "colab_type": "code",
        "colab": {}
      },
      "source": [
        "class TestCase:\n",
        "  def __init__(self, name):\n",
        "    self.name = name\n",
        "\n",
        "  def run(self):\n",
        "    self.setUp() # 추가\n",
        "    method = getattr(self, self.name)\n",
        "    method()\n",
        "\n",
        "  # 추가\n",
        "  def setUp(self):\n",
        "    pass"
      ],
      "execution_count": 0,
      "outputs": []
    },
    {
      "cell_type": "markdown",
      "metadata": {
        "id": "YAmiV6BFPoeF",
        "colab_type": "text"
      },
      "source": [
        "다시 테스트."
      ]
    },
    {
      "cell_type": "code",
      "metadata": {
        "id": "zd85Z92cPmO2",
        "colab_type": "code",
        "colab": {}
      },
      "source": [
        "TestCaseTest(\"testRunning\").run()\n",
        "TestCaseTest(\"testSetup\").run() #추가"
      ],
      "execution_count": 0,
      "outputs": []
    },
    {
      "cell_type": "markdown",
      "metadata": {
        "id": "ISJsXOHGtyVq",
        "colab_type": "text"
      },
      "source": [
        "테스트 성공.\n",
        "\n",
        "---\n",
        "\n",
        "테스트 케이스 수행될 때는 setUp() -> testMethod() 으로 두 단계를 거친다.\n",
        "따라서, 중복적인 요소를 제거할 수 있다.\n",
        "\n",
        "\n",
        "메타포 : 중복제거\n",
        "\n",
        "- wasRun 플래그를 setUp()에서 설정한다."
      ]
    },
    {
      "cell_type": "code",
      "metadata": {
        "id": "5FuHVErsV6w2",
        "colab_type": "code",
        "colab": {}
      },
      "source": [
        "class WasRun(TestCase):\n",
        "  def __init__(self, name):    \n",
        "    TestCase.__init__(self,name)\n",
        "\n",
        "  def testMethod(self):\n",
        "    self.wasRun=1\n",
        "\n",
        "  def setUp(self):\n",
        "    self.wasRun = None #이동\n",
        "    self.wasSetup=1"
      ],
      "execution_count": 0,
      "outputs": []
    },
    {
      "cell_type": "markdown",
      "metadata": {
        "id": "6hpjLeobWUeO",
        "colab_type": "text"
      },
      "source": [
        "- test 전에 wasRun 플래그가 false인지 확인을 setUp() 테스트에서만 한다."
      ]
    },
    {
      "cell_type": "code",
      "metadata": {
        "id": "XuysKc6IWivv",
        "colab_type": "code",
        "colab": {}
      },
      "source": [
        "class TestCaseTest(TestCase):\n",
        "    def testRunning(self):\n",
        "        test = WasRun(\"testMethod\")\n",
        "        # assert(not test.wasRun) 삭제\n",
        "        test.run()\n",
        "        assert(test.wasRun)\n",
        "\n",
        "    def testSetup(self):\n",
        "        test = WasRun(\"testMethod\")\n",
        "        test.run()\n",
        "        assert(test.wasSetup)"
      ],
      "execution_count": 0,
      "outputs": []
    },
    {
      "cell_type": "markdown",
      "metadata": {
        "id": "0iVchbhCWYm5",
        "colab_type": "text"
      },
      "source": [
        "- WasRun 인스턴스를 setUp()에서 생성하고 testMethod()에서 같이 사용한다. 테스트마다 새로 생성하기 때문에 격리 문제는 발생하지 않는다.\n"
      ]
    },
    {
      "cell_type": "code",
      "metadata": {
        "id": "Q97-syG3W3pK",
        "colab_type": "code",
        "colab": {}
      },
      "source": [
        "class TestCaseTest(TestCase):\n",
        "\n",
        "    #추가\n",
        "    def setUp(self):\n",
        "      self.test = WasRun(\"testMethod\")\n",
        "\n",
        "    def testRunning(self):        \n",
        "        self.test.run()\n",
        "        assert(self.test.wasRun)\n",
        "\n",
        "    def testSetup(self):\n",
        "        self.test.run()\n",
        "        assert(self.test.wasSetup)\n",
        "\n",
        "TestCaseTest(\"testRunning\").run()\n",
        "TestCaseTest(\"testSetup\").run()"
      ],
      "execution_count": 0,
      "outputs": []
    },
    {
      "cell_type": "markdown",
      "metadata": {
        "id": "6loHUmABYM44",
        "colab_type": "text"
      },
      "source": [
        "ToDO List\n",
        "* [X] 테스트 메서드 호출하기\n",
        "* [X] **먼저 SetUp 호출하기**\n",
        "* 나중에 tearDown 호출하기\n",
        "* 테스트 메서드가 실패하더라도 tearDown 호출하기\n",
        "* 여러 개의 테스트 실행하기\n",
        "* 수집된 결과를 출력하기 "
      ]
    }
  ]
}