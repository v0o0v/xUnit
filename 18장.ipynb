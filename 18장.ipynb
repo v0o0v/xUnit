{
  "nbformat": 4,
  "nbformat_minor": 0,
  "metadata": {
    "colab": {
      "name": "18장.ipynb",
      "provenance": [],
      "collapsed_sections": [],
      "authorship_tag": "ABX9TyPFD6mYjl0h9EAfvLvOja/0",
      "include_colab_link": true
    },
    "kernelspec": {
      "name": "python3",
      "display_name": "Python 3"
    }
  },
  "cells": [
    {
      "cell_type": "markdown",
      "metadata": {
        "id": "view-in-github",
        "colab_type": "text"
      },
      "source": [
        "<a href=\"https://colab.research.google.com/github/v0o0v/xUnit/blob/master/18%EC%9E%A5.ipynb\" target=\"_parent\"><img src=\"https://colab.research.google.com/assets/colab-badge.svg\" alt=\"Open In Colab\"/></a>"
      ]
    },
    {
      "cell_type": "markdown",
      "metadata": {
        "id": "j0kfXfZEoIZr",
        "colab_type": "text"
      },
      "source": [
        "# 18장 xUnit으로 가는 첫걸음\n",
        "\n",
        "\n",
        "이번 장부터는 테스트 툴을 만든다.\n",
        "\n",
        "TDD를 하기 위해서 테스트 툴이 있어야 하는데 우리는 이 테스트 툴을 만드는 거라서 난감한 상황이다. 그래서 첫 번째 단계는 툴이 없이 수동으로 검증하는 방식을 쓸 것이다.\n",
        "\n",
        "일단 ToDo 리스트부터..\n",
        "\n",
        "\n",
        "* **테스트 메서드 호출하기**\n",
        "* 먼저 SetUp 호출하기\n",
        "* 나중에 tearDown 호출하기\n",
        "* 테스트 메서드가 실패하더라도 tearDown 호출하기\n",
        "* 여러 개의 테스트 실행하기\n",
        "* 수집된 결과를 출력하기  \n",
        "\n",
        "\n",
        "테스트케이스를 만들자.\n",
        "(테스트 메서드 호출 테스트 방법 메타포 : flag)\n",
        "- 테스트 대상 클래스 : WasRun\n",
        "- 테스트 대상 메소드 : testMethod\n",
        "- flag 이름 : wasRun\n",
        "\n"
      ]
    },
    {
      "cell_type": "code",
      "metadata": {
        "id": "ja3r07YcoEAb",
        "colab_type": "code",
        "colab": {
          "base_uri": "https://localhost:8080/",
          "height": 52
        },
        "outputId": "deb6164d-8feb-47b2-9396-b1b489430fa1"
      },
      "source": [
        "test = WasRun(\"testMethod\")\n",
        "print (test.wasRun)\n",
        "test.testMethod()\n",
        "print (test.wasRun)"
      ],
      "execution_count": 4,
      "outputs": [
        {
          "output_type": "stream",
          "text": [
            "None\n",
            "1\n"
          ],
          "name": "stdout"
        }
      ]
    },
    {
      "cell_type": "markdown",
      "metadata": {
        "id": "nPXZq9k3tmaq",
        "colab_type": "text"
      },
      "source": [
        "당연히 실패가 뜬다.\n",
        "성공시키기 위해 코드 추가."
      ]
    },
    {
      "cell_type": "code",
      "metadata": {
        "id": "OtpD4b96s2lD",
        "colab_type": "code",
        "colab": {}
      },
      "source": [
        "class WasRun:\n",
        "  def __init__(self, name):\n",
        "    self.wasRun = None\n",
        "\n",
        "  def testMethod(self):\n",
        "    self.wasRun=1"
      ],
      "execution_count": 0,
      "outputs": []
    },
    {
      "cell_type": "code",
      "metadata": {
        "id": "cMqUZTbytjXo",
        "colab_type": "code",
        "colab": {}
      },
      "source": [
        "test = WasRun(\"testMethod\")\n",
        "print (test.wasRun)\n",
        "test.testMethod()\n",
        "print (test.wasRun)"
      ],
      "execution_count": 0,
      "outputs": []
    },
    {
      "cell_type": "markdown",
      "metadata": {
        "id": "ISJsXOHGtyVq",
        "colab_type": "text"
      },
      "source": [
        "테스트 성공.\n",
        "이제는 테스트 메서드를 직접 호출하는 대신 run()이라는 인터페이스 메서드를 사용한다."
      ]
    },
    {
      "cell_type": "code",
      "metadata": {
        "id": "tK7m3GiJuYmr",
        "colab_type": "code",
        "colab": {
          "base_uri": "https://localhost:8080/",
          "height": 52
        },
        "outputId": "aecc844a-2af3-4ce7-93d9-1bb743352b8d"
      },
      "source": [
        "test = WasRun(\"testMethod\")\n",
        "print (test.wasRun)\n",
        "test.run()\n",
        "print (test.wasRun)\n",
        "\n"
      ],
      "execution_count": 10,
      "outputs": [
        {
          "output_type": "stream",
          "text": [
            "None\n",
            "1\n"
          ],
          "name": "stdout"
        }
      ]
    },
    {
      "cell_type": "markdown",
      "metadata": {
        "id": "qIw3cQoKuYOn",
        "colab_type": "text"
      },
      "source": [
        "테스트 통과를 위해 코드 추가"
      ]
    },
    {
      "cell_type": "code",
      "metadata": {
        "id": "3bVbk4KKu3dd",
        "colab_type": "code",
        "colab": {}
      },
      "source": [
        "class WasRun:\n",
        "  def __init__(self, name):\n",
        "    self.wasRun = None\n",
        "\n",
        "  def testMethod(self):\n",
        "    self.wasRun=1\n",
        "\n",
        "  def run(self):\n",
        "    self.testMethod()"
      ],
      "execution_count": 0,
      "outputs": []
    },
    {
      "cell_type": "code",
      "metadata": {
        "id": "zzSVAb2BzZFw",
        "colab_type": "code",
        "colab": {}
      },
      "source": [
        "test = WasRun(\"testMethod\")\n",
        "print (test.wasRun)\n",
        "test.run()\n",
        "print (test.wasRun)"
      ],
      "execution_count": 0,
      "outputs": []
    },
    {
      "cell_type": "markdown",
      "metadata": {
        "id": "5Qk1wnS5vUaB",
        "colab_type": "text"
      },
      "source": [
        "다음으로는 문자열로 받은 메소드를 동적으로 run()에서 실행하는 코드 추가\n"
      ]
    },
    {
      "cell_type": "code",
      "metadata": {
        "id": "innNnMTsvdMq",
        "colab_type": "code",
        "colab": {}
      },
      "source": [
        "class WasRun:\n",
        "  def __init__(self, name):\n",
        "    self.wasRun = None\n",
        "    self.name = name\n",
        "\n",
        "  def testMethod(self):\n",
        "    self.wasRun=1\n",
        "\n",
        "  def run(self):\n",
        "    method = getattr(self, self.name)\n",
        "    method()"
      ],
      "execution_count": 0,
      "outputs": []
    },
    {
      "cell_type": "code",
      "metadata": {
        "id": "d04T2ekzwHWZ",
        "colab_type": "code",
        "colab": {
          "base_uri": "https://localhost:8080/",
          "height": 52
        },
        "outputId": "b75c139d-be79-4fe0-f404-40c7cffa72f3"
      },
      "source": [
        "test = WasRun(\"testMethod\")\n",
        "print (test.wasRun)\n",
        "test.run()\n",
        "print (test.wasRun)"
      ],
      "execution_count": 11,
      "outputs": [
        {
          "output_type": "stream",
          "text": [
            "None\n",
            "1\n"
          ],
          "name": "stdout"
        }
      ]
    },
    {
      "cell_type": "markdown",
      "metadata": {
        "id": "AkRRVb81wloq",
        "colab_type": "text"
      },
      "source": [
        "\n",
        "\n",
        "---\n",
        "\n",
        "\n",
        "이제 WasRun은 두 가지 일을 수행하고 있다.\n",
        "- 메소드가 수행이 되었는지 flag로 표현\n",
        "- 테스트 메서드를 동적으로 실행\n",
        "\n",
        "한 클래스가 다른 두가지 일을 하고 있으니 분리해야 할 때다.\n",
        "테스트 메서드를 동적으로 수행하는 일을 TestCase 라는 클래스로 만들어 분리시킨다.\n",
        "- 분리 방법 메타포 : 상속"
      ]
    },
    {
      "cell_type": "code",
      "metadata": {
        "id": "386ntHOmxAZr",
        "colab_type": "code",
        "colab": {}
      },
      "source": [
        "class TestCase:\n",
        "  def __init__(self, name):\n",
        "    self.name = name\n",
        "\n",
        "  def run(self):\n",
        "    method = getattr(self, self.name)\n",
        "    method()"
      ],
      "execution_count": 0,
      "outputs": []
    },
    {
      "cell_type": "code",
      "metadata": {
        "id": "haiT7aoV0FtB",
        "colab_type": "code",
        "colab": {}
      },
      "source": [
        "class WasRun(TestCase):\n",
        "  def __init__(self, name):\n",
        "    self.wasRun = None\n",
        "    TestCase.__init__(self,name)\n",
        "\n",
        "  def testMethod(self):\n",
        "    self.wasRun=1\n"
      ],
      "execution_count": 0,
      "outputs": []
    },
    {
      "cell_type": "markdown",
      "metadata": {
        "id": "2hTNAR0H0hyT",
        "colab_type": "text"
      },
      "source": [
        "다시 테스트 확인."
      ]
    },
    {
      "cell_type": "code",
      "metadata": {
        "id": "kzEDXBdT0fto",
        "colab_type": "code",
        "colab": {
          "base_uri": "https://localhost:8080/",
          "height": 52
        },
        "outputId": "7b4f2e8d-fe3f-4901-fb9e-51590d7a3eb1"
      },
      "source": [
        "test = WasRun(\"testMethod\")\n",
        "print (test.wasRun)\n",
        "test.run()\n",
        "print (test.wasRun)"
      ],
      "execution_count": 14,
      "outputs": [
        {
          "output_type": "stream",
          "text": [
            "None\n",
            "1\n"
          ],
          "name": "stdout"
        }
      ]
    },
    {
      "cell_type": "markdown",
      "metadata": {
        "id": "taju9YLQ0FX4",
        "colab_type": "text"
      },
      "source": [
        "\n",
        "\n",
        "---\n",
        "\n",
        "\n",
        "마지막으로 수동으로 확인하는 방법을 자동으로 코드에서 확인하도록 수정한다\n",
        "테스트 코드 추가"
      ]
    },
    {
      "cell_type": "code",
      "metadata": {
        "id": "DfrrMW3_1_iY",
        "colab_type": "code",
        "colab": {}
      },
      "source": [
        "TestCaseTest(\"testRunning\").run()"
      ],
      "execution_count": 0,
      "outputs": []
    },
    {
      "cell_type": "code",
      "metadata": {
        "id": "oQBsUDRF06Oj",
        "colab_type": "code",
        "colab": {}
      },
      "source": [
        "class TestCaseTest(TestCase):\n",
        "    def testRunning(self):\n",
        "        test = WasRun(\"testMethod\")\n",
        "        assert(not test.wasRun)\n",
        "        test.run()\n",
        "        assert(test.wasRun)\n"
      ],
      "execution_count": 0,
      "outputs": []
    }
  ]
}