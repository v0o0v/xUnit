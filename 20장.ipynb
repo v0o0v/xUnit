{
  "nbformat": 4,
  "nbformat_minor": 0,
  "metadata": {
    "colab": {
      "name": "20장",
      "provenance": [],
      "collapsed_sections": [],
      "authorship_tag": "ABX9TyNHK30D6BnmV+0aYc5bX/m4",
      "include_colab_link": true
    },
    "kernelspec": {
      "name": "python3",
      "display_name": "Python 3"
    }
  },
  "cells": [
    {
      "cell_type": "markdown",
      "metadata": {
        "id": "view-in-github",
        "colab_type": "text"
      },
      "source": [
        "<a href=\"https://colab.research.google.com/github/v0o0v/xUnit/blob/master/20%EC%9E%A5.ipynb\" target=\"_parent\"><img src=\"https://colab.research.google.com/assets/colab-badge.svg\" alt=\"Open In Colab\"/></a>"
      ]
    },
    {
      "cell_type": "markdown",
      "metadata": {
        "id": "j0kfXfZEoIZr",
        "colab_type": "text"
      },
      "source": [
        "# 20장 뒷정리하기\n",
        "\n",
        "ToDO List\n",
        "* [X] 테스트 메서드 호출하기\n",
        "* [X] 먼저 SetUp 호출하기\n",
        "* **나중에 tearDown 호출하기**\n",
        "* 테스트 메서드가 실패하더라도 tearDown 호출하기\n",
        "* 여러 개의 테스트 실행하기\n",
        "* 수집된 결과를 출력하기 \n",
        "\n",
        "---\n",
        "테스트 끝에 tearDown()을 실행하는 부분을 처리하자.\n",
        "순서를 지키기 위해 플래그보다는 로그를 남기는 것으로한다.\n",
        "(항상 로그 끝에 실행되는 메소드를 붙인다)\n",
        "\n",
        "\n",
        "메타포 : 로그\n",
        "\n",
        "ToDO List\n",
        "* [X] 테스트 메서드 호출하기\n",
        "* [X] 먼저 SetUp 호출하기\n",
        "* **나중에 tearDown 호출하기**\n",
        "* 테스트 메서드가 실패하더라도 tearDown 호출하기\n",
        "* 여러 개의 테스트 실행하기\n",
        "* 수집된 결과를 출력하기 \n",
        "* **WasRun에 로그 문자열 남기기**"
      ]
    },
    {
      "cell_type": "markdown",
      "metadata": {
        "id": "_XgCuLplDF02",
        "colab_type": "text"
      },
      "source": [
        "로그를 남기고 테스트를 로그가 남았는지로 확인하는 식으로 수정한다.\n",
        "로그로 검사하기 때문에 setup 플래그도 삭제한다."
      ]
    },
    {
      "cell_type": "code",
      "metadata": {
        "id": "cMqUZTbytjXo",
        "colab_type": "code",
        "colab": {}
      },
      "source": [
        "class TestCase:\n",
        "  def __init__(self, name):\n",
        "    self.name = name\n",
        "\n",
        "  def run(self):\n",
        "    self.setUp()\n",
        "    method = getattr(self, self.name)\n",
        "    method()\n",
        "  \n",
        "  def setUp(self):\n",
        "    pass"
      ],
      "execution_count": 0,
      "outputs": []
    },
    {
      "cell_type": "code",
      "metadata": {
        "id": "5FuHVErsV6w2",
        "colab_type": "code",
        "colab": {}
      },
      "source": [
        "class WasRun(TestCase):\n",
        "  def __init__(self, name):    \n",
        "    TestCase.__init__(self,name)\n",
        "\n",
        "  def testMethod(self):\n",
        "    self.wasRun=1\n",
        "\n",
        "  def setUp(self):\n",
        "    self.wasRun = None\n",
        "    #self.wasSetup=1 삭제\n",
        "    self.log = \"setUp \" #추가"
      ],
      "execution_count": 0,
      "outputs": []
    },
    {
      "cell_type": "code",
      "metadata": {
        "id": "Q97-syG3W3pK",
        "colab_type": "code",
        "colab": {}
      },
      "source": [
        "class TestCaseTest(TestCase):\n",
        "  \n",
        "    def setUp(self):\n",
        "      self.test = WasRun(\"testMethod\")\n",
        "\n",
        "    def testRunning(self):        \n",
        "        self.test.run()\n",
        "        assert(self.test.wasRun)\n",
        "\n",
        "    def testSetup(self):\n",
        "        self.test.run()\n",
        "        # assert(self.test.wasSetup) 삭제\n",
        "        assert(\"setUp \" == self.test.log)\n",
        "\n",
        "TestCaseTest(\"testRunning\").run()\n",
        "TestCaseTest(\"testSetup\").run()"
      ],
      "execution_count": 0,
      "outputs": []
    },
    {
      "cell_type": "markdown",
      "metadata": {
        "id": "0YX6GF4KEUd-",
        "colab_type": "text"
      },
      "source": [
        "wasRun 플래그도 로그를 남기는 식으로 수정할 수 있다."
      ]
    },
    {
      "cell_type": "code",
      "metadata": {
        "id": "5zJP7t5dFBlT",
        "colab_type": "code",
        "colab": {}
      },
      "source": [
        "class WasRun(TestCase):\n",
        "  def __init__(self, name):    \n",
        "    TestCase.__init__(self,name)\n",
        "\n",
        "  def testMethod(self):\n",
        "    self.wasRun=1\n",
        "    self.log = self.log + \"testMethod \" # 추가\n",
        "\n",
        "  def setUp(self):\n",
        "    self.wasRun = None    \n",
        "    self.log = \"setUp \""
      ],
      "execution_count": 0,
      "outputs": []
    },
    {
      "cell_type": "markdown",
      "metadata": {
        "id": "c_pODLRbFTKC",
        "colab_type": "text"
      },
      "source": [
        "하지만 testSetUp() 테스트가 깨진다. 위 코드에서 \" testMethod\" 로그가 추가되었기 때문이다. 이 부분을 수정하자"
      ]
    },
    {
      "cell_type": "code",
      "metadata": {
        "id": "-4qWWWQSFl5o",
        "colab_type": "code",
        "colab": {}
      },
      "source": [
        "class TestCaseTest(TestCase):\n",
        "  \n",
        "    def setUp(self):\n",
        "      self.test = WasRun(\"testMethod\")\n",
        "\n",
        "    def testRunning(self):        \n",
        "        self.test.run()\n",
        "        assert(self.test.wasRun)\n",
        "\n",
        "    def testSetup(self):\n",
        "        self.test.run()        \n",
        "        assert(\"setUp testMethod \" == self.test.log) # 수정\n",
        "\n",
        "TestCaseTest(\"testRunning\").run()\n",
        "TestCaseTest(\"testSetup\").run()"
      ],
      "execution_count": 0,
      "outputs": []
    },
    {
      "cell_type": "markdown",
      "metadata": {
        "id": "ENjbkeVKGPc2",
        "colab_type": "text"
      },
      "source": [
        "테스트는 이제 녹색이다. \n",
        "\n",
        "그런데 testSetup이 testRunning의 역할까지 다 하고 있다.\n",
        "templateMethod 패턴이 적용된다\n",
        "또한, 공용으로 WasRun을 쓰기 위해서 필드변수로 따로 빼서 쓰던것도 돌려놓는다"
      ]
    },
    {
      "cell_type": "code",
      "metadata": {
        "id": "ZW5jQV9RGzfl",
        "colab_type": "code",
        "colab": {}
      },
      "source": [
        "class TestCaseTest(TestCase):    \n",
        "\n",
        "    #추가\n",
        "    def testTemplateMethod(self):\n",
        "        test = WasRun(\"testMethod\")\n",
        "        test.run()        \n",
        "        assert(\"setUp testMethod \" == test.log)\n",
        "\n",
        "#TestCaseTest(\"testRunning\").run()\n",
        "#TestCaseTest(\"testSetup\").run()\n",
        "TestCaseTest(\"testTemplateMethod\").run()"
      ],
      "execution_count": 0,
      "outputs": []
    },
    {
      "cell_type": "markdown",
      "metadata": {
        "id": "m-h7VEL8IcL1",
        "colab_type": "text"
      },
      "source": [
        "이제 tearDown()을 테스트할 준비가 되었다."
      ]
    },
    {
      "cell_type": "code",
      "metadata": {
        "id": "M3E9pmtkIkPd",
        "colab_type": "code",
        "colab": {}
      },
      "source": [
        "class TestCaseTest(TestCase):\n",
        "    \n",
        "    def testTemplateMethod(self):\n",
        "        test = WasRun(\"testMethod\")\n",
        "        test.run()        \n",
        "        assert(\"setUp testMethod tearDown \" == test.log) # 수정\n",
        "\n",
        "TestCaseTest(\"testTemplateMethod\").run()"
      ],
      "execution_count": 0,
      "outputs": []
    },
    {
      "cell_type": "code",
      "metadata": {
        "id": "fJ8Q1LQDIuoN",
        "colab_type": "code",
        "colab": {}
      },
      "source": [
        "class TestCase:\n",
        "  def __init__(self, name):\n",
        "    self.name = name\n",
        "\n",
        "  def run(self):\n",
        "    self.setUp()\n",
        "    method = getattr(self, self.name)\n",
        "    method()\n",
        "    self.tearDown()\n",
        "  \n",
        "  def setUp(self):\n",
        "    pass\n",
        "\n",
        "  def tearDown(self):\n",
        "    pass"
      ],
      "execution_count": 0,
      "outputs": []
    },
    {
      "cell_type": "code",
      "metadata": {
        "id": "oOwHhhURJCq_",
        "colab_type": "code",
        "colab": {}
      },
      "source": [
        "class WasRun(TestCase):\n",
        "  def __init__(self, name):    \n",
        "    TestCase.__init__(self,name)\n",
        "\n",
        "  def testMethod(self):    \n",
        "    self.log = self.log + \"testMethod \"\n",
        "\n",
        "  def setUp(self):       \n",
        "    self.log = \"setUp \"\n",
        "\n",
        "  # 추가\n",
        "  def tearDown(self):\n",
        "    self.log = self.log + \"tearDown \" "
      ],
      "execution_count": 0,
      "outputs": []
    },
    {
      "cell_type": "markdown",
      "metadata": {
        "id": "AYd2dg09Jhgl",
        "colab_type": "text"
      },
      "source": [
        "ToDO List\n",
        "* [X] 테스트 메서드 호출하기\n",
        "* [X] 먼저 SetUp 호출하기\n",
        "* [x] 나중에 tearDown 호출하기\n",
        "* 테스트 메서드가 실패하더라도 tearDown 호출하기\n",
        "* 여러 개의 테스트 실행하기\n",
        "* 수집된 결과를 출력하기 \n",
        "* [x] **WasRun에 로그 문자열 남기기**"
      ]
    }
  ]
}