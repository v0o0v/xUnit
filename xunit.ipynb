{
  "nbformat": 4,
  "nbformat_minor": 0,
  "metadata": {
    "colab": {
      "name": "xunit.ipynb",
      "provenance": [],
      "authorship_tag": "ABX9TyPiq//2gCiQRP51ADgby8XY",
      "include_colab_link": true
    },
    "kernelspec": {
      "name": "python3",
      "display_name": "Python 3"
    }
  },
  "cells": [
    {
      "cell_type": "markdown",
      "metadata": {
        "id": "view-in-github",
        "colab_type": "text"
      },
      "source": [
        "<a href=\"https://colab.research.google.com/github/v0o0v/xUnit/blob/master/xunit.ipynb\" target=\"_parent\"><img src=\"https://colab.research.google.com/assets/colab-badge.svg\" alt=\"Open In Colab\"/></a>"
      ]
    },
    {
      "cell_type": "markdown",
      "metadata": {
        "id": "j0kfXfZEoIZr",
        "colab_type": "text"
      },
      "source": [
        "# 18장 xUnit으로 가는 첫걸음\n",
        "\n",
        "\n",
        "이번 장부터는 테스트 툴을 만든다.\n",
        "\n",
        "TDD를 하기 위해서 테스트 툴이 있어야 하는데 우리는 이 테스트 툴을 만드는 거라서 난감한 상황이다. 그래서 첫 번째 단계는 툴이 없이 수동으로 검증하는 방식을 쓸 것이다.\n",
        "\n",
        "일단 ToDo 리스트부터..\n",
        "\n",
        "\n",
        "* 테스트 메서드 호출하기\n",
        "* 먼저 SetUp 호출하기\n",
        "* 나중에 tearDown 호출하기\n",
        "* 테스트 메서드가 실패하더라도 tearDown 호출하기\n",
        "* 여러 개의 테스트 실행하기\n",
        "* 수집된 결과를 출력하기  \n",
        "\n",
        "\n",
        "\n"
      ]
    },
    {
      "cell_type": "code",
      "metadata": {
        "id": "ja3r07YcoEAb",
        "colab_type": "code",
        "colab": {}
      },
      "source": [
        ""
      ],
      "execution_count": 0,
      "outputs": []
    }
  ]
}